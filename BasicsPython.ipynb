{
  "nbformat": 4,
  "nbformat_minor": 0,
  "metadata": {
    "colab": {
      "provenance": [],
      "authorship_tag": "ABX9TyPxCWUezH1+fNONgnb9YcI7",
      "include_colab_link": true
    },
    "kernelspec": {
      "name": "python3",
      "display_name": "Python 3"
    },
    "language_info": {
      "name": "python"
    }
  },
  "cells": [
    {
      "cell_type": "markdown",
      "metadata": {
        "id": "view-in-github",
        "colab_type": "text"
      },
      "source": [
        "<a href=\"https://colab.research.google.com/github/guptamadhav11/AI-LAB/blob/main/BasicsPython.ipynb\" target=\"_parent\"><img src=\"https://colab.research.google.com/assets/colab-badge.svg\" alt=\"Open In Colab\"/></a>"
      ]
    },
    {
      "cell_type": "code",
      "execution_count": null,
      "metadata": {
        "colab": {
          "base_uri": "https://localhost:8080/"
        },
        "id": "RuibSVyyoIq3",
        "outputId": "a34ab892-d57d-41bc-8dcc-03bec466abce"
      },
      "outputs": [
        {
          "output_type": "execute_result",
          "data": {
            "text/plain": [
              "[1, 'mmm', 3, 4]"
            ]
          },
          "metadata": {},
          "execution_count": 14
        }
      ],
      "source": [
        "myList=[1, \"mmm\" ,3 ,4]\n",
        "myList"
      ]
    },
    {
      "cell_type": "code",
      "source": [
        "myList[0:3]\n"
      ],
      "metadata": {
        "colab": {
          "base_uri": "https://localhost:8080/"
        },
        "id": "ITyNIfhqsIiL",
        "outputId": "fcf49e5d-d2c1-4336-b8bb-96b5e4526e54"
      },
      "execution_count": null,
      "outputs": [
        {
          "output_type": "execute_result",
          "data": {
            "text/plain": [
              "[1, 'mmm', 3]"
            ]
          },
          "metadata": {},
          "execution_count": 15
        }
      ]
    },
    {
      "cell_type": "code",
      "source": [
        "myList[1:5]"
      ],
      "metadata": {
        "colab": {
          "base_uri": "https://localhost:8080/"
        },
        "id": "OA-fRvRItMWv",
        "outputId": "ffc2e717-361a-48d5-8946-24225a34a8e0"
      },
      "execution_count": null,
      "outputs": [
        {
          "output_type": "execute_result",
          "data": {
            "text/plain": [
              "['mmm', 3, 4]"
            ]
          },
          "metadata": {},
          "execution_count": 16
        }
      ]
    },
    {
      "cell_type": "code",
      "source": [
        "5 in myList"
      ],
      "metadata": {
        "colab": {
          "base_uri": "https://localhost:8080/"
        },
        "id": "yEIsWyIetmk5",
        "outputId": "038f9443-aabf-44d8-e2e7-f394d0fb1883"
      },
      "execution_count": null,
      "outputs": [
        {
          "output_type": "execute_result",
          "data": {
            "text/plain": [
              "False"
            ]
          },
          "metadata": {},
          "execution_count": 17
        }
      ]
    },
    {
      "cell_type": "code",
      "source": [
        "len(myList)"
      ],
      "metadata": {
        "colab": {
          "base_uri": "https://localhost:8080/"
        },
        "id": "S3pUqeA9tpiB",
        "outputId": "bea2d402-1288-44c1-d712-9bd535411512"
      },
      "execution_count": null,
      "outputs": [
        {
          "output_type": "execute_result",
          "data": {
            "text/plain": [
              "4"
            ]
          },
          "metadata": {},
          "execution_count": 18
        }
      ]
    },
    {
      "cell_type": "code",
      "source": [
        "name='Madhav'\n",
        "last='Gupta'\n",
        "name+' '+last\n"
      ],
      "metadata": {
        "colab": {
          "base_uri": "https://localhost:8080/",
          "height": 36
        },
        "id": "v5PgptdKySyz",
        "outputId": "4e60f621-1350-4af9-e957-665fbe4d2820"
      },
      "execution_count": null,
      "outputs": [
        {
          "output_type": "execute_result",
          "data": {
            "text/plain": [
              "'Madhav Gupta'"
            ],
            "application/vnd.google.colaboratory.intrinsic+json": {
              "type": "string"
            }
          },
          "metadata": {},
          "execution_count": 26
        }
      ]
    },
    {
      "cell_type": "code",
      "source": [
        "for i in range(1,10,2):\n",
        "  print(i)"
      ],
      "metadata": {
        "colab": {
          "base_uri": "https://localhost:8080/"
        },
        "id": "Aqy_dODX1I1N",
        "outputId": "6822848d-af1b-40f9-9826-ca441eef0ae4"
      },
      "execution_count": null,
      "outputs": [
        {
          "output_type": "stream",
          "name": "stdout",
          "text": [
            "1\n",
            "3\n",
            "5\n",
            "7\n",
            "9\n"
          ]
        }
      ]
    },
    {
      "cell_type": "code",
      "source": [
        "def relu(x):\n",
        "  if(x>=0):\n",
        "    return x\n",
        "  else:\n",
        "    return 0\n",
        "\n",
        "\n",
        "print(relu(-5))\n"
      ],
      "metadata": {
        "colab": {
          "base_uri": "https://localhost:8080/"
        },
        "id": "hcO2v_XC6-1t",
        "outputId": "3bf64774-1631-4812-a6cf-78150abc058b"
      },
      "execution_count": null,
      "outputs": [
        {
          "output_type": "stream",
          "name": "stdout",
          "text": [
            "0\n"
          ]
        }
      ]
    },
    {
      "cell_type": "code",
      "source": [
        "def EuclidianNorm(vector):\n",
        "  sum=0\n",
        "  for i in vector:\n",
        "    sum=sum+i**2\n",
        "  norm=sum**(1/2)\n",
        "  return norm\n",
        "import numpy as np\n",
        "vector=[0.5, -1.2, 3.3, 4.5]\n",
        "print(EuclidianNorm(vector))"
      ],
      "metadata": {
        "id": "sQgZ6KVs-D28",
        "colab": {
          "base_uri": "https://localhost:8080/"
        },
        "outputId": "c1ed7572-3dfd-4505-85d8-df6f8528f51a"
      },
      "execution_count": 5,
      "outputs": [
        {
          "output_type": "stream",
          "name": "stdout",
          "text": [
            "5.729746940310715\n"
          ]
        }
      ]
    },
    {
      "cell_type": "code",
      "source": [
        " def max(List):\n",
        "   max=List[0]\n",
        "   for i in range(len(List)-1):\n",
        "    if(List[i+1]>max):\n",
        "      max=List[i+1]\n",
        "\n",
        "   return max\n",
        "v=[0.5, 985, 3.3, 1.2,125,54]\n",
        "print(max(v))"
      ],
      "metadata": {
        "colab": {
          "base_uri": "https://localhost:8080/"
        },
        "id": "YgkBRSyHoC6R",
        "outputId": "44e720a3-0963-40cb-bab5-115d0c2e27c2"
      },
      "execution_count": 2,
      "outputs": [
        {
          "output_type": "stream",
          "name": "stdout",
          "text": [
            "985\n"
          ]
        }
      ]
    },
    {
      "cell_type": "code",
      "source": [
        "\n",
        "\n",
        "def bubblesort(List):\n",
        "  for j in range(1,len(List)):\n",
        "   for i in range(len(List)-j):\n",
        "    if(List[i]>List[i+1]):\n",
        "      c=List[i]\n",
        "      List[i]=List[i+1]\n",
        "      List[i+1]=c\n",
        "      ##swap( id(List[i]),id(List[i+1]))\n",
        "\n",
        "List=[9,8,7,-6,5,4,3,2,1]\n",
        "bubblesort(List)\n",
        "print(List)"
      ],
      "metadata": {
        "colab": {
          "base_uri": "https://localhost:8080/"
        },
        "id": "wHpENOpor0Oh",
        "outputId": "5485b57b-7a3e-47f0-d688-4017a4a675d5"
      },
      "execution_count": 13,
      "outputs": [
        {
          "output_type": "stream",
          "name": "stdout",
          "text": [
            "[-6, 1, 2, 3, 4, 5, 7, 8, 9]\n"
          ]
        }
      ]
    },
    {
      "cell_type": "code",
      "source": [
        "import numpy as np\n",
        "my_array=np.array([1,2,3,4,17])\n",
        "my_array"
      ],
      "metadata": {
        "colab": {
          "base_uri": "https://localhost:8080/"
        },
        "id": "q-_6rju6-0S9",
        "outputId": "0433c10a-ee57-46fa-bca7-80cd9450b2bd"
      },
      "execution_count": 48,
      "outputs": [
        {
          "output_type": "execute_result",
          "data": {
            "text/plain": [
              "array([ 1,  2,  3,  4, 17])"
            ]
          },
          "metadata": {},
          "execution_count": 48
        }
      ]
    },
    {
      "cell_type": "code",
      "source": [],
      "metadata": {
        "id": "LXGnhYH9HbmT"
      },
      "execution_count": 48,
      "outputs": []
    },
    {
      "cell_type": "code",
      "source": [
        "my_2Darray=np.array([[1,2,3,4],[5,6,7,8]])\n",
        "my_2Darray"
      ],
      "metadata": {
        "colab": {
          "base_uri": "https://localhost:8080/"
        },
        "id": "ZmWPbU16_tTj",
        "outputId": "e401ba27-350f-4c2a-b298-32fd1e337a37"
      },
      "execution_count": 25,
      "outputs": [
        {
          "output_type": "execute_result",
          "data": {
            "text/plain": [
              "array([[1, 2, 3, 4],\n",
              "       [5, 6, 7, 8]])"
            ]
          },
          "metadata": {},
          "execution_count": 25
        }
      ]
    },
    {
      "cell_type": "code",
      "source": [
        "my_2Darray[:,2]"
      ],
      "metadata": {
        "colab": {
          "base_uri": "https://localhost:8080/"
        },
        "id": "hB7b109OBluQ",
        "outputId": "4706d168-f55f-4753-9d08-2511880a3948"
      },
      "execution_count": 38,
      "outputs": [
        {
          "output_type": "execute_result",
          "data": {
            "text/plain": [
              "array([3, 7])"
            ]
          },
          "metadata": {},
          "execution_count": 38
        }
      ]
    },
    {
      "cell_type": "code",
      "source": [
        "print(my_array.shape)"
      ],
      "metadata": {
        "colab": {
          "base_uri": "https://localhost:8080/"
        },
        "id": "pZD0_h5hD4od",
        "outputId": "7179fd66-c01a-4b5f-ec8a-13dc5c50a704"
      },
      "execution_count": 43,
      "outputs": [
        {
          "output_type": "stream",
          "name": "stdout",
          "text": [
            "(5,)\n"
          ]
        }
      ]
    },
    {
      "cell_type": "code",
      "source": [
        "my_2Darray.dtype"
      ],
      "metadata": {
        "colab": {
          "base_uri": "https://localhost:8080/"
        },
        "id": "UYGBZUSQFfkG",
        "outputId": "67febf8f-8228-4eef-8eac-57fe534a4af1"
      },
      "execution_count": 44,
      "outputs": [
        {
          "output_type": "execute_result",
          "data": {
            "text/plain": [
              "dtype('int64')"
            ]
          },
          "metadata": {},
          "execution_count": 44
        }
      ]
    },
    {
      "cell_type": "code",
      "source": [
        "print(my_2Darray.shape)"
      ],
      "metadata": {
        "colab": {
          "base_uri": "https://localhost:8080/"
        },
        "id": "O35CSeeBEC9O",
        "outputId": "2357e86b-0898-4c62-963f-644ba8571eaa"
      },
      "execution_count": 40,
      "outputs": [
        {
          "output_type": "stream",
          "name": "stdout",
          "text": [
            "(2, 4)\n"
          ]
        }
      ]
    },
    {
      "cell_type": "code",
      "source": [
        "zeroarray=np.zeros((2,3))"
      ],
      "metadata": {
        "id": "qbMfxGbCHjVn"
      },
      "execution_count": 50,
      "outputs": []
    },
    {
      "cell_type": "code",
      "source": [
        "tupple=(1,2,3,4,'Madhav')\n",
        "\n",
        "print(tupple[3])\n",
        "print(type(tupple))\n",
        "print(type(1))\n"
      ],
      "metadata": {
        "colab": {
          "base_uri": "https://localhost:8080/"
        },
        "id": "bSn6g8W9M3_t",
        "outputId": "6dabe860-4a28-45fc-9c42-b28a164915ec"
      },
      "execution_count": 57,
      "outputs": [
        {
          "output_type": "stream",
          "name": "stdout",
          "text": [
            "4\n",
            "<class 'tuple'>\n",
            "<class 'int'>\n"
          ]
        }
      ]
    },
    {
      "cell_type": "code",
      "source": [
        "a=[[1,2,3],\"madhav\",[4,5,6],\"raghav\",[8],[9,10]]\n",
        "\n",
        "#for i in a:\n",
        "  #print(i)\n",
        "  #for j in i:\n",
        "   #       print(j)\n"
      ],
      "metadata": {
        "id": "ixP_mMe_4cqa"
      },
      "execution_count": 29,
      "outputs": []
    },
    {
      "cell_type": "code",
      "source": [
        "di={\n",
        "\n",
        "      \"madhav\":[1,2,3,4],\n",
        "      2:\"badgg\",\n",
        "      3:[5,6,7],\n",
        "      4:\"d\",\n",
        "      5:\"e\",\n",
        "      6:\"f\"\n",
        "}\n",
        "for i in di:\n",
        "   print(di[i])\n",
        "   for j in di[i]:\n",
        "     print(j)\n",
        "\n",
        "\n",
        "\n",
        "\n"
      ],
      "metadata": {
        "colab": {
          "base_uri": "https://localhost:8080/"
        },
        "id": "I3sn3TdCdNSE",
        "outputId": "33201354-77d9-4c6b-f4cf-9387ee3c26a5"
      },
      "execution_count": 1,
      "outputs": [
        {
          "output_type": "stream",
          "name": "stdout",
          "text": [
            "[1, 2, 3, 4]\n",
            "1\n",
            "2\n",
            "3\n",
            "4\n",
            "badgg\n",
            "b\n",
            "a\n",
            "d\n",
            "g\n",
            "g\n",
            "[5, 6, 7]\n",
            "5\n",
            "6\n",
            "7\n",
            "d\n",
            "d\n",
            "e\n",
            "e\n",
            "f\n",
            "f\n"
          ]
        }
      ]
    },
    {
      "cell_type": "code",
      "source": [
        "l=[1,2,3,4]\n",
        "l2=[1,2,3,4]\n",
        "l.extend(l2)\n",
        "l"
      ],
      "metadata": {
        "colab": {
          "base_uri": "https://localhost:8080/"
        },
        "id": "Cy6sOiZ_IA2e",
        "outputId": "3f929fc5-c95d-4ec8-ea2a-a5562099b7ce"
      },
      "execution_count": 2,
      "outputs": [
        {
          "output_type": "execute_result",
          "data": {
            "text/plain": [
              "[1, 2, 3, 4, 1, 2, 3, 4]"
            ]
          },
          "metadata": {},
          "execution_count": 2
        }
      ]
    },
    {
      "cell_type": "code",
      "source": [
        "l=[ {\n",
        "\n",
        "     1:\"a\",\n",
        "     4:\"baaa\",\n",
        "     \"c\":3\n",
        "},2,3,4,\"madhav\"]\n",
        "print(l[0][4][3])"
      ],
      "metadata": {
        "colab": {
          "base_uri": "https://localhost:8080/"
        },
        "id": "WImB5OoPmQRF",
        "outputId": "434feac0-d700-47d3-8db7-f2d5bdafb176"
      },
      "execution_count": 56,
      "outputs": [
        {
          "output_type": "stream",
          "name": "stdout",
          "text": [
            "a\n"
          ]
        }
      ]
    }
  ]
}